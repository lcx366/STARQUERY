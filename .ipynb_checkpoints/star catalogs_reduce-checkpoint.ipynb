{
 "cells": [
  {
   "cell_type": "code",
   "execution_count": 1,
   "id": "b99fc165-50af-4b29-9e32-f0685e9ac137",
   "metadata": {},
   "outputs": [
    {
     "name": "stdout",
     "output_type": "stream",
     "text": [
      "EOP file 'finals2000A.all' in /Users/lichunxiao/src/eop-data/ is already the latest.\n",
      "JPL ephemeris file 'de440.bsp' is already in /Users/lichunxiao/src/ephem-data/\n",
      "Star catalog file 'hygdata_v3.csv' is already in /Users/lichunxiao/src/starcatalogs/data/\n",
      "Starcatalog tiles used for blind matching is already in /Users/lichunxiao/src/starcatalogs/indices/\n"
     ]
    }
   ],
   "source": [
    "from odtools.astrometric_calibration.catalogquery import search_cone,search_box\n",
    "from odtools.astrometric_calibration.catalogquery import search_cone_magpm,search_box_magpm\n",
    "import time"
   ]
  },
  {
   "cell_type": "markdown",
   "id": "1f3bec72-329d-484f-8e38-5a245f14f36a",
   "metadata": {},
   "source": [
    "# cone"
   ]
  },
  {
   "cell_type": "code",
   "execution_count": 6,
   "id": "d1c587d9-0c4a-4d1c-bbe3-784d8eba281c",
   "metadata": {},
   "outputs": [
    {
     "name": "stdout",
     "output_type": "stream",
     "text": [
      "0.22823309898376465\n"
     ]
    }
   ],
   "source": [
    "t0 = time.time()\n",
    "con_re = search_cone_magpm([10,30],15,8,t_pm='2022')\n",
    "t1 = time.time()\n",
    "total = t1-t0\n",
    "print(total)"
   ]
  },
  {
   "cell_type": "markdown",
   "id": "c9339819-7242-496e-8889-7e07e9641608",
   "metadata": {},
   "source": [
    "已分区，已简化：\n",
    "0.22823309898376465"
   ]
  },
  {
   "cell_type": "markdown",
   "id": "7814c2a0-0dec-4524-b69f-e03fc6c35849",
   "metadata": {},
   "source": [
    "# box"
   ]
  },
  {
   "cell_type": "code",
   "execution_count": 7,
   "id": "8e4bcd95-1e88-4991-b522-683874c1fe2a",
   "metadata": {},
   "outputs": [
    {
     "name": "stdout",
     "output_type": "stream",
     "text": [
      "0.19884419441223145\n"
     ]
    }
   ],
   "source": [
    "t0 = time.time()\n",
    "box_re = search_box_magpm([-5,0,25,30],8,t_pm='2022')\n",
    "t1 = time.time()\n",
    "total = t1-t0\n",
    "print(total)"
   ]
  },
  {
   "cell_type": "markdown",
   "id": "b9ccb83e-5558-47f1-89d1-f557f0fd89c0",
   "metadata": {},
   "source": [
    "已分区，已简化：\n",
    "0.19884419441223145"
   ]
  },
  {
   "cell_type": "markdown",
   "id": "32cd9069-09dd-4e1a-b350-7687c35e65f8",
   "metadata": {},
   "source": [
    "# improve test"
   ]
  },
  {
   "cell_type": "markdown",
   "id": "27a8869d-16a8-4b1b-84e7-6c94b5456c29",
   "metadata": {},
   "source": [
    "# cone"
   ]
  },
  {
   "cell_type": "code",
   "execution_count": 8,
   "id": "1b78d960-d4f8-4040-8aa8-005555a9673a",
   "metadata": {},
   "outputs": [
    {
     "name": "stdout",
     "output_type": "stream",
     "text": [
      "0.1941080093383789\n"
     ]
    }
   ],
   "source": [
    "t0 = time.time()\n",
    "con_re = search_cone([10,15],15)\n",
    "t1 = time.time()\n",
    "total = t1-t0\n",
    "print(total)"
   ]
  },
  {
   "cell_type": "markdown",
   "id": "da6d2068-77b4-47a4-a10d-5ee5e727f915",
   "metadata": {},
   "source": [
    "分区，简化：\n",
    "0.1941080093383789"
   ]
  },
  {
   "cell_type": "markdown",
   "id": "a728f284-7d21-46d3-949f-a74760de6ef6",
   "metadata": {},
   "source": [
    "# box"
   ]
  },
  {
   "cell_type": "code",
   "execution_count": 9,
   "id": "9df6656c-ca56-48fd-a917-ac8894055139",
   "metadata": {},
   "outputs": [
    {
     "name": "stdout",
     "output_type": "stream",
     "text": [
      "0.1773827075958252\n"
     ]
    }
   ],
   "source": [
    "t0 = time.time()\n",
    "box_re = search_box([-5,0,25,30])\n",
    "t1 = time.time()\n",
    "total = t1-t0\n",
    "print(total)"
   ]
  },
  {
   "cell_type": "markdown",
   "id": "0d45f318-3b10-44e9-85f0-75205426b3dd",
   "metadata": {},
   "source": [
    "分区，简化：\n",
    "0.1773827075958252"
   ]
  },
  {
   "cell_type": "code",
   "execution_count": null,
   "id": "a7fcf088-2a78-4306-8cf3-80127355a8f8",
   "metadata": {},
   "outputs": [],
   "source": [
    "df"
   ]
  },
  {
   "cell_type": "code",
   "execution_count": null,
   "id": "7fef2f42-c816-4073-a481-e904da573073",
   "metadata": {},
   "outputs": [],
   "source": [
    "import numpy as np\n",
    "import pandas as pd\n",
    "from pathlib import Path\n",
    "\n",
    "width = 2 # tile size in deg\n",
    "\n",
    "df = pd.read_csv('raw/hygdata_v3.csv')\n",
    "ra,dec = df['ra']*15,df['dec']\n",
    "\n",
    "dir_reduced = 'reduced/hyg/'\n",
    "Path(dir_reduced).mkdir(parents=True, exist_ok=True)  \n",
    "    \n",
    "for i in range(0,180//width):\n",
    "    for j in range(0,360//width):\n",
    "        ra_min,ra_max = width*j,width*j+width\n",
    "        dec_min,dec_max = 90-(width*i+width),90-i*width\n",
    "        \n",
    "        ra_flag = np.abs(ra - (ra_min + ra_max)/2) < (ra_max - ra_min)/2\n",
    "        dec_flag = np.abs(dec- (dec_min + dec_max)/2) < (dec_max - dec_min)/2\n",
    "        \n",
    "        flag = ra_flag & dec_flag \n",
    "        df_sec = df[flag][['ra','dec','pmra','pmdec','mag']]\n",
    "        df_sec.to_csv(dir_reduced+'hyg-{:d}.csv'.format(180*i+j),index=False)"
   ]
  },
  {
   "cell_type": "markdown",
   "id": "05bd0567-e66c-4dc2-a5c6-0997dc0332f6",
   "metadata": {},
   "source": [
    "# make a navigation star catalog"
   ]
  },
  {
   "cell_type": "markdown",
   "id": "538094c4-e2c0-45c6-9d40-e9a5acb7d0d1",
   "metadata": {},
   "source": [
    "## For hyg"
   ]
  },
  {
   "cell_type": "code",
   "execution_count": null,
   "id": "d8055b26-833e-40a1-9041-9a2879c903f0",
   "metadata": {},
   "outputs": [],
   "source": []
  },
  {
   "cell_type": "code",
   "execution_count": null,
   "id": "87b40520-4e83-4690-b4a6-efd0a2bc5ec4",
   "metadata": {},
   "outputs": [],
   "source": [
    "import pandas as pd\n",
    "df1 = pd.read_csv('~/src/starcatalogs/data/hyg/hyg-5400.csv')\n",
    "df2 = pd.read_csv('~/src/starcatalogs/data/hyg/hyg-5401.csv')"
   ]
  },
  {
   "cell_type": "code",
   "execution_count": null,
   "id": "e7cbb0dd-5aac-4822-9948-f7ff0f4ac3da",
   "metadata": {},
   "outputs": [],
   "source": [
    "df1"
   ]
  },
  {
   "cell_type": "code",
   "execution_count": null,
   "id": "7ffc2443-1519-413c-930c-5cd95c628119",
   "metadata": {},
   "outputs": [],
   "source": [
    "df2"
   ]
  },
  {
   "cell_type": "code",
   "execution_count": null,
   "id": "632935c9-9e93-4413-81c7-abb6c2458629",
   "metadata": {},
   "outputs": [],
   "source": [
    "pd.concat([df1,df2])"
   ]
  },
  {
   "cell_type": "code",
   "execution_count": null,
   "id": "b326ea0f-ad97-4ebf-9709-3ccab4209c1a",
   "metadata": {},
   "outputs": [],
   "source": [
    "#Objects found : 906"
   ]
  },
  {
   "cell_type": "code",
   "execution_count": null,
   "id": "6937b79d-83fb-4525-b570-a4e84d844259",
   "metadata": {},
   "outputs": [],
   "source": [
    "al = []\n",
    "for i in range(16200):\n",
    "    al.append('gcs12-{:d}.csv'.format(i))"
   ]
  },
  {
   "cell_type": "code",
   "execution_count": null,
   "id": "954d6264-0fe5-4c1a-9323-2e453e9a8e1a",
   "metadata": {},
   "outputs": [],
   "source": [
    "for i in range(16200):\n",
    "    if 'gcs12-{:d}.csv'.format(i) not in al:\n",
    "        print('k')\n",
    "    "
   ]
  },
  {
   "cell_type": "code",
   "execution_count": null,
   "id": "203b2cdb-03ae-4414-8d5e-11593ce6d1e3",
   "metadata": {},
   "outputs": [],
   "source": []
  },
  {
   "cell_type": "code",
   "execution_count": null,
   "id": "f1e9fe71-0519-47be-b75e-60ad5e763358",
   "metadata": {},
   "outputs": [],
   "source": [
    "def seq2tile(seq_name):\n",
    "    '''\n",
    "    Parse the name of a sequence star catalog file, and output the corresponding name of the star catalog tile file.\n",
    "    \n",
    "    Inputs:\n",
    "        seq_name -> [str] Name of the corresponding sequence file, such as 'raw/apass/apass-14.csv'   \n",
    "    Outputs:\n",
    "        tile_name -> [str] Name of the star catalog tile file to parse, such as 'CatalogSearch.aspx?bbox=266,-90,268,-88&format=csv&catalog=apass'    \n",
    "    '''\n",
    "    \n",
    "    seq_name_sep = seq_name.split('-')\n",
    "    starcatalog_name = seq_name_sep[0].split('/')[1]\n",
    "    seq = int(seq_name_sep[1][:-4])  \n",
    "    \n",
    "    ra_min = seq%180*2\n",
    "    ra_max = ra_min + 2\n",
    "    codec_min = seq//180*2\n",
    "    codec_max = codec_min + 2\n",
    "    dec_min = 90 - codec_max\n",
    "    dec_max = 90 - codec_min\n",
    "    tile_name = 'CatalogSearch.aspx?bbox={:d},{:d},{:d},{:d}&format=csv&catalog={:s}'.format(ra_min,dec_min,ra_max,dec_max,starcatalog_name)\n",
    "    \n",
    "    return tile_name"
   ]
  },
  {
   "cell_type": "code",
   "execution_count": null,
   "id": "c27706ec-53f1-408e-af5e-97c03bef5aeb",
   "metadata": {},
   "outputs": [],
   "source": [
    "seq2tile('raw/gaiadr3/gaiadr3-4057.csv')"
   ]
  },
  {
   "cell_type": "code",
   "execution_count": null,
   "id": "7350e6a1-cda5-46d8-a4e4-6d5d0be5fbc6",
   "metadata": {},
   "outputs": [],
   "source": [
    "http://gsss.stsci.edu/webservices/vo/CatalogSearch.aspx?bbox=194,44,196,46&format=csv&catalog=gaiadr3"
   ]
  },
  {
   "cell_type": "code",
   "execution_count": null,
   "id": "abf71b20-61a5-4b1c-a32c-9456165b8418",
   "metadata": {},
   "outputs": [],
   "source": [
    "http://gsss.stsci.edu/webservices/vo/CatalogSearch.aspx?bbox=120,34,122,36&format=csv&catalog=gaiadr3"
   ]
  },
  {
   "cell_type": "code",
   "execution_count": null,
   "id": "233557f1-e6bd-48e2-ae3d-247fa9bc22f6",
   "metadata": {},
   "outputs": [],
   "source": [
    "import numpy as np\n",
    "\n",
    "def tile2seq(tile_name):\n",
    "    '''\n",
    "    Parse the name of a star catalog tile file，and output the name of the corresponding sequence file.\n",
    "    \n",
    "    Inputs:\n",
    "        tile_name -> [str] Name of the star catalog tile file to parse, such as 'CatalogSearch.aspx?bbox=266,-90,268,-88&format=csv&catalog=apass'\n",
    "    Outputs:\n",
    "        seq_name -> [str] Name of the corresponding sequence file, such as 'raw/apass/apass-14.csv'\n",
    "    '''\n",
    "    tile_name_sep = tile_name.split('=')\n",
    "    box_range = tile_name_sep[1][:-7]\n",
    "    starcatalog_name = tile_name_sep[3]\n",
    "    \n",
    "    ra_min,dec_min,ra_max,dec_max = np.array(box_range.split(','),dtype=int)\n",
    "    \n",
    "    codec_min = 90 - dec_max\n",
    "    codec_max = 90 - dec_min\n",
    "\n",
    "    width = ra_max - ra_min\n",
    "\n",
    "    ra_seq =  ra_min//width\n",
    "    codec_seq = codec_min//width\n",
    "    seq = int(codec_seq*360/width + ra_seq)\n",
    "    seq_name = 'raw/{0:s}/{0:s}-{1:d}.csv'.format(starcatalog_name,seq)\n",
    "    \n",
    "    return seq_name"
   ]
  },
  {
   "cell_type": "code",
   "execution_count": null,
   "id": "c832d4bf-c9cf-4170-8d8f-7fd353efdbbf",
   "metadata": {},
   "outputs": [],
   "source": [
    "tile2seq('CatalogSearch.aspx?bbox=10,84,11,85&format=csv&catalog=apass')"
   ]
  },
  {
   "cell_type": "code",
   "execution_count": null,
   "id": "ca0e8c59-c253-4985-a908-4a3cbc1c5f5f",
   "metadata": {},
   "outputs": [],
   "source": [
    "type(360//1)"
   ]
  },
  {
   "cell_type": "code",
   "execution_count": null,
   "id": "e7ee3c26-4ec5-43bd-bd4a-85d0e6efde45",
   "metadata": {},
   "outputs": [],
   "source": [
    "def seq2tile(seq_name,width):\n",
    "    '''\n",
    "    Parse the name of a sequence star catalog file, and output the corresponding name of the star catalog tile file.\n",
    "    \n",
    "    Inputs:\n",
    "        seq_name -> [str] Name of the corresponding sequence file, such as 'raw/apass/apass-14.csv'   \n",
    "        width -> [int] size of tile in deg\n",
    "    Outputs:\n",
    "        tile_name -> [str] Name of the star catalog tile file to parse, such as 'CatalogSearch.aspx?bbox=266,-90,268,-88&format=csv&catalog=apass'    \n",
    "    '''\n",
    "    \n",
    "    seq_name_sep = seq_name.split('-')\n",
    "    starcatalog_name = seq_name_sep[0].split('/')[1]\n",
    "    seq = int(seq_name_sep[1][:-4])  \n",
    "    \n",
    "    count_lon = 360//width\n",
    "    ra_min = seq%count_lon*width\n",
    "    ra_max = ra_min + width\n",
    "    codec_min = seq//count_lon*width\n",
    "    codec_max = codec_min + width\n",
    "    dec_min = 90 - codec_max\n",
    "    dec_max = 90 - codec_min\n",
    "    tile_name = 'CatalogSearch.aspx?bbox={:d},{:d},{:d},{:d}&format=csv&catalog={:s}'.format(ra_min,dec_min,ra_max,dec_max,starcatalog_name)\n",
    "    \n",
    "    return tile_name"
   ]
  },
  {
   "cell_type": "code",
   "execution_count": null,
   "id": "51e88c29-b4ac-487b-a05e-8274b6cd59cc",
   "metadata": {},
   "outputs": [],
   "source": [
    "seq2tile('raw/apass/landolt-13.csv',1)"
   ]
  },
  {
   "cell_type": "code",
   "execution_count": null,
   "id": "5df0f9ea-06fb-4416-b392-78ef176665e0",
   "metadata": {},
   "outputs": [],
   "source": [
    "http://gsss.stsci.edu/webservices/vo/CatalogSearch.aspx?bbox=13,89,14,90&format=csv&catalog=apass"
   ]
  },
  {
   "cell_type": "code",
   "execution_count": null,
   "id": "595dff86-1855-4d54-9144-b2b46a770ea0",
   "metadata": {},
   "outputs": [],
   "source": [
    "1024**np.array([0,1,2])"
   ]
  },
  {
   "cell_type": "code",
   "execution_count": null,
   "id": "cc0899ce-ef63-49bf-bfe1-7da38d6b543a",
   "metadata": {},
   "outputs": [],
   "source": [
    "np.power(1024,[0,1,2])"
   ]
  },
  {
   "cell_type": "code",
   "execution_count": null,
   "id": "4805774f-36b4-42a0-b570-2219b369db5a",
   "metadata": {},
   "outputs": [],
   "source": [
    "from glob import glob\n",
    "from pathlib import Path\n",
    "\n",
    "starcatalog_name = 'tgas'\n",
    "dir_reduced = 'reduced/{:s}/'.format(starcatalog_name)\n",
    "Path(dir_reduced).mkdir(parents=True, exist_ok=True)  \n",
    "\n",
    "file_list = glob('raw/{:s}/*'.format(starcatalog_name))\n",
    "\n",
    "for file in file_list:\n",
    "    df = pd.read_csv(file,skiprow=1)\n",
    "    df_sec = df[['ra','dec','pmra','pmdec','mag']]\n",
    "    df_sec.to_csv(dir_reduced+'hyg-{:d}.csv'.format(180*i+j),index=False)"
   ]
  },
  {
   "cell_type": "code",
   "execution_count": null,
   "id": "1aec17af-53c8-49ba-b961-4a32711ae986",
   "metadata": {},
   "outputs": [],
   "source": [
    "'hello'.replace('he','gg')"
   ]
  },
  {
   "cell_type": "code",
   "execution_count": null,
   "id": "68728d6d-ab8a-4e7b-8eb3-2a3e72474d7b",
   "metadata": {},
   "outputs": [],
   "source": [
    "from os import path,remove,system\n",
    "\n",
    "file_size = path.getsize('/Volumes/TOSHIBA EXT/StarCatalogMatch/starcatalog/raw/tgas/tgas-33.csv')"
   ]
  },
  {
   "cell_type": "code",
   "execution_count": null,
   "id": "347fb95f-c237-4406-ad8a-26089a77a3c7",
   "metadata": {},
   "outputs": [],
   "source": [
    "file_size"
   ]
  },
  {
   "cell_type": "code",
   "execution_count": null,
   "id": "6c2defa8-6d4d-430c-b3ed-bccb6fdbe1b0",
   "metadata": {},
   "outputs": [],
   "source": [
    "# Import pandas library\n",
    "import pandas as pd\n",
    "\n",
    "df = pd.DataFrame(columns=['ra','dec','pmra','pmdec','mag'])\n",
    " \n",
    "# print dataframe.\n",
    "df"
   ]
  },
  {
   "cell_type": "markdown",
   "id": "627ff6f3-005f-444b-98e4-44546ce89d3d",
   "metadata": {},
   "source": [
    "## 制作简化星表"
   ]
  },
  {
   "cell_type": "code",
   "execution_count": null,
   "id": "72cf3c69-ad0b-425d-ba3c-fc9ed7ec6512",
   "metadata": {},
   "outputs": [],
   "source": [
    "import numpy as np\n",
    "import pandas as pd\n",
    "from pathlib import Path\n",
    "\n",
    "width = 2 # tile size in deg\n",
    "\n",
    "df = pd.read_csv('/Users/lichunxiao/src/starcatalogs/data/raw/hygdata_v3.csv')\n",
    "ra,dec = df['ra']*15,df['dec']\n",
    "\n",
    "dir_reduced = '/Users/lichunxiao/src/starcatalogs/data/raw/hyg/'.replace('raw','reduced')\n",
    "Path(dir_reduced).mkdir(parents=True, exist_ok=True)  \n",
    "    \n",
    "for i in range(0,180//width):\n",
    "    for j in range(0,360//width):\n",
    "        ra_min,ra_max = width*j,width*j+width\n",
    "        dec_min,dec_max = 90-(width*i+width),90-i*width\n",
    "        \n",
    "        ra_flag = np.abs(ra - (ra_min + ra_max)/2) < (ra_max - ra_min)/2\n",
    "        dec_flag = np.abs(dec- (dec_min + dec_max)/2) < (dec_max - dec_min)/2\n",
    "        \n",
    "        flag = ra_flag & dec_flag \n",
    "        df_sec = df[flag][['ra','dec','pmra','pmdec','mag']]\n",
    "        df_sec['epoch'] = '2000'\n",
    "        df_sec.to_csv(dir_reduced+'hyg-{:d}.csv'.format(180*i+j),index=False)"
   ]
  },
  {
   "cell_type": "markdown",
   "id": "c68bdacf-60a5-4331-b8e0-b6c18fa82bdc",
   "metadata": {},
   "source": [
    "## 制作导航星表"
   ]
  },
  {
   "cell_type": "code",
   "execution_count": null,
   "id": "8c53ef2d-17d9-4920-bc7e-2aa4687423b6",
   "metadata": {},
   "outputs": [],
   "source": [
    "import numpy as np\n",
    "from glob import glob\n",
    "from pathlib import Path\n",
    "import pandas as pd\n",
    "from astropy.time import Time\n",
    "\n",
    "starcatalog_name = 'hyg'\n",
    "dir_minimal = '/Users/lichunxiao/src/starcatalogs/data/minimal/{:s}/'.format(starcatalog_name)\n",
    "Path(dir_minimal).mkdir(parents=True, exist_ok=True)  \n",
    "\n",
    "file_list = glob('/Users/lichunxiao/src/starcatalogs/data/reduced/{:s}/*'.format(starcatalog_name))\n",
    "\n",
    "t0 = '2000'\n",
    "t_pm = '2022'\n",
    "\n",
    "mag_threshold = 8\n",
    "\n",
    "for file in file_list:\n",
    "    df = pd.read_csv(file)\n",
    "    mag_flag = (df['mag'] < mag_threshold) & (df['mag'] > -26) # remove the sun\n",
    "    df = df[mag_flag].sort_values(by=['mag'])\n",
    "\n",
    "    # calculate proper motion\n",
    "    t0 = Time(t0,format='jyear')\n",
    "    if t_pm is None:\n",
    "        dt = 0\n",
    "    else:\n",
    "        dt = (Time(t_pm,format='jyear') - t0).jd/365.25\n",
    "\n",
    "    ra = df['ra']*15 + df['pmra']/3.6e6 * dt\n",
    "    dec = df['dec'] + df['pmdec']/3.6e6 * dt\n",
    "    \n",
    "    df['ra'] =  np.round(ra/15, decimals=6)\n",
    "    df['dec'] = np.round(dec, decimals=6)\n",
    "    df['epoch'] = t_pm\n",
    "    \n",
    "    df_sec = df[['ra','dec','mag','epoch']]\n",
    "    \n",
    "    df_sec.to_csv(file.replace('reduced','minimal'),index=False)"
   ]
  },
  {
   "cell_type": "code",
   "execution_count": null,
   "id": "87974db5-9634-4225-ac8b-dd8724ddd2f4",
   "metadata": {},
   "outputs": [],
   "source": []
  }
 ],
 "metadata": {
  "kernelspec": {
   "display_name": "Python 3 (ipykernel)",
   "language": "python",
   "name": "python3"
  },
  "language_info": {
   "codemirror_mode": {
    "name": "ipython",
    "version": 3
   },
   "file_extension": ".py",
   "mimetype": "text/x-python",
   "name": "python",
   "nbconvert_exporter": "python",
   "pygments_lexer": "ipython3",
   "version": "3.9.16"
  }
 },
 "nbformat": 4,
 "nbformat_minor": 5
}
